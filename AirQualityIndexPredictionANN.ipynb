{
  "nbformat": 4,
  "nbformat_minor": 0,
  "metadata": {
    "colab": {
      "name": "AirQualityIndexPredictionANN.ipynb",
      "provenance": [],
      "collapsed_sections": [],
      "authorship_tag": "ABX9TyPsg9IVgU/EJL9UVmWyH9OP"
    },
    "kernelspec": {
      "name": "python3",
      "display_name": "Python 3"
    }
  },
  "cells": [
    {
      "cell_type": "code",
      "metadata": {
        "id": "plXaCjzikW8A"
      },
      "source": [
        "import pandas as pd\r\n",
        "import numpy as np\r\n",
        "import matplotlib.pyplot as plt\r\n",
        "import seaborn as sns"
      ],
      "execution_count": 1,
      "outputs": []
    },
    {
      "cell_type": "code",
      "metadata": {
        "colab": {
          "resources": {
            "http://localhost:8080/nbextensions/google.colab/files.js": {
              "data": "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",
              "ok": true,
              "headers": [
                [
                  "content-type",
                  "application/javascript"
                ]
              ],
              "status": 200,
              "status_text": ""
            }
          },
          "base_uri": "https://localhost:8080/",
          "height": 73
        },
        "id": "HTIWpZJdkafH",
        "outputId": "a2cb634d-cec2-4fd2-d94d-09e3c9e015ca"
      },
      "source": [
        "from google.colab import files\r\n",
        "file = files.upload()"
      ],
      "execution_count": 3,
      "outputs": [
        {
          "output_type": "display_data",
          "data": {
            "text/html": [
              "\n",
              "     <input type=\"file\" id=\"files-8cf24d37-80dd-43a9-bb9b-7fa5e060c84d\" name=\"files[]\" multiple disabled\n",
              "        style=\"border:none\" />\n",
              "     <output id=\"result-8cf24d37-80dd-43a9-bb9b-7fa5e060c84d\">\n",
              "      Upload widget is only available when the cell has been executed in the\n",
              "      current browser session. Please rerun this cell to enable.\n",
              "      </output>\n",
              "      <script src=\"/nbextensions/google.colab/files.js\"></script> "
            ],
            "text/plain": [
              "<IPython.core.display.HTML object>"
            ]
          },
          "metadata": {
            "tags": []
          }
        },
        {
          "output_type": "stream",
          "text": [
            "Saving Real_Combine.csv to Real_Combine.csv\n"
          ],
          "name": "stdout"
        }
      ]
    },
    {
      "cell_type": "code",
      "metadata": {
        "id": "l7bYpo6MlFIA"
      },
      "source": [
        "df=pd.read_csv('Real_Combine.csv')"
      ],
      "execution_count": 4,
      "outputs": []
    },
    {
      "cell_type": "code",
      "metadata": {
        "colab": {
          "base_uri": "https://localhost:8080/",
          "height": 197
        },
        "id": "OGJ8qd5QlUuW",
        "outputId": "a2417d97-25cb-4451-d3b1-0a70e3b12eb0"
      },
      "source": [
        "df.head()"
      ],
      "execution_count": 5,
      "outputs": [
        {
          "output_type": "execute_result",
          "data": {
            "text/html": [
              "<div>\n",
              "<style scoped>\n",
              "    .dataframe tbody tr th:only-of-type {\n",
              "        vertical-align: middle;\n",
              "    }\n",
              "\n",
              "    .dataframe tbody tr th {\n",
              "        vertical-align: top;\n",
              "    }\n",
              "\n",
              "    .dataframe thead th {\n",
              "        text-align: right;\n",
              "    }\n",
              "</style>\n",
              "<table border=\"1\" class=\"dataframe\">\n",
              "  <thead>\n",
              "    <tr style=\"text-align: right;\">\n",
              "      <th></th>\n",
              "      <th>T</th>\n",
              "      <th>TM</th>\n",
              "      <th>Tm</th>\n",
              "      <th>SLP</th>\n",
              "      <th>H</th>\n",
              "      <th>VV</th>\n",
              "      <th>V</th>\n",
              "      <th>VM</th>\n",
              "      <th>PM 2.5</th>\n",
              "    </tr>\n",
              "  </thead>\n",
              "  <tbody>\n",
              "    <tr>\n",
              "      <th>0</th>\n",
              "      <td>7.4</td>\n",
              "      <td>9.8</td>\n",
              "      <td>4.8</td>\n",
              "      <td>1017.6</td>\n",
              "      <td>93</td>\n",
              "      <td>0.5</td>\n",
              "      <td>4.3</td>\n",
              "      <td>9.4</td>\n",
              "      <td>219.720833</td>\n",
              "    </tr>\n",
              "    <tr>\n",
              "      <th>1</th>\n",
              "      <td>7.8</td>\n",
              "      <td>12.7</td>\n",
              "      <td>4.4</td>\n",
              "      <td>1018.5</td>\n",
              "      <td>87</td>\n",
              "      <td>0.6</td>\n",
              "      <td>4.4</td>\n",
              "      <td>11.1</td>\n",
              "      <td>182.187500</td>\n",
              "    </tr>\n",
              "    <tr>\n",
              "      <th>2</th>\n",
              "      <td>6.7</td>\n",
              "      <td>13.4</td>\n",
              "      <td>2.4</td>\n",
              "      <td>1019.4</td>\n",
              "      <td>82</td>\n",
              "      <td>0.6</td>\n",
              "      <td>4.8</td>\n",
              "      <td>11.1</td>\n",
              "      <td>154.037500</td>\n",
              "    </tr>\n",
              "    <tr>\n",
              "      <th>3</th>\n",
              "      <td>8.6</td>\n",
              "      <td>15.5</td>\n",
              "      <td>3.3</td>\n",
              "      <td>1018.7</td>\n",
              "      <td>72</td>\n",
              "      <td>0.8</td>\n",
              "      <td>8.1</td>\n",
              "      <td>20.6</td>\n",
              "      <td>223.208333</td>\n",
              "    </tr>\n",
              "    <tr>\n",
              "      <th>4</th>\n",
              "      <td>12.4</td>\n",
              "      <td>20.9</td>\n",
              "      <td>4.4</td>\n",
              "      <td>1017.3</td>\n",
              "      <td>61</td>\n",
              "      <td>1.3</td>\n",
              "      <td>8.7</td>\n",
              "      <td>22.2</td>\n",
              "      <td>200.645833</td>\n",
              "    </tr>\n",
              "  </tbody>\n",
              "</table>\n",
              "</div>"
            ],
            "text/plain": [
              "      T    TM   Tm     SLP   H   VV    V    VM      PM 2.5\n",
              "0   7.4   9.8  4.8  1017.6  93  0.5  4.3   9.4  219.720833\n",
              "1   7.8  12.7  4.4  1018.5  87  0.6  4.4  11.1  182.187500\n",
              "2   6.7  13.4  2.4  1019.4  82  0.6  4.8  11.1  154.037500\n",
              "3   8.6  15.5  3.3  1018.7  72  0.8  8.1  20.6  223.208333\n",
              "4  12.4  20.9  4.4  1017.3  61  1.3  8.7  22.2  200.645833"
            ]
          },
          "metadata": {
            "tags": []
          },
          "execution_count": 5
        }
      ]
    },
    {
      "cell_type": "code",
      "metadata": {
        "colab": {
          "base_uri": "https://localhost:8080/",
          "height": 282
        },
        "id": "kgpb2n3UmvpI",
        "outputId": "dbe37196-b7f3-4e27-ab14-a50e21f6b087"
      },
      "source": [
        "## Check for null values\r\n",
        "\r\n",
        "sns.heatmap(df.isnull(),yticklabels=False,cbar=False,cmap='viridis')"
      ],
      "execution_count": 7,
      "outputs": [
        {
          "output_type": "execute_result",
          "data": {
            "text/plain": [
              "<matplotlib.axes._subplots.AxesSubplot at 0x7fc79c2455c0>"
            ]
          },
          "metadata": {
            "tags": []
          },
          "execution_count": 7
        },
        {
          "output_type": "display_data",
          "data": {
            "image/png": "[encoded data removed]",
            "text/plain": [
              "<Figure size 432x288 with 1 Axes>"
            ]
          },
          "metadata": {
            "tags": [],
            "needs_background": "light"
          }
        }
      ]
    },
    {
      "cell_type": "code",
      "metadata": {
        "id": "pYwUJJYlqxLg"
      },
      "source": [
        "df=df.dropna()"
      ],
      "execution_count": 8,
      "outputs": []
    },
    {
      "cell_type": "code",
      "metadata": {
        "id": "tigO1Vsyq2YH"
      },
      "source": [
        "X=df.iloc[:,:-1] ## independent features\r\n",
        "y=df.iloc[:,-1] ## dependent features"
      ],
      "execution_count": 9,
      "outputs": []
    },
    {
      "cell_type": "code",
      "metadata": {
        "colab": {
          "base_uri": "https://localhost:8080/",
          "height": 317
        },
        "id": "ITfElZFurDJf",
        "outputId": "61564805-6616-41d4-e691-3b1d7ae9a0bb"
      },
      "source": [
        "df.corr()"
      ],
      "execution_count": 10,
      "outputs": [
        {
          "output_type": "execute_result",
          "data": {
            "text/html": [
              "<div>\n",
              "<style scoped>\n",
              "    .dataframe tbody tr th:only-of-type {\n",
              "        vertical-align: middle;\n",
              "    }\n",
              "\n",
              "    .dataframe tbody tr th {\n",
              "        vertical-align: top;\n",
              "    }\n",
              "\n",
              "    .dataframe thead th {\n",
              "        text-align: right;\n",
              "    }\n",
              "</style>\n",
              "<table border=\"1\" class=\"dataframe\">\n",
              "  <thead>\n",
              "    <tr style=\"text-align: right;\">\n",
              "      <th></th>\n",
              "      <th>T</th>\n",
              "      <th>TM</th>\n",
              "      <th>Tm</th>\n",
              "      <th>SLP</th>\n",
              "      <th>H</th>\n",
              "      <th>VV</th>\n",
              "      <th>V</th>\n",
              "      <th>VM</th>\n",
              "      <th>PM 2.5</th>\n",
              "    </tr>\n",
              "  </thead>\n",
              "  <tbody>\n",
              "    <tr>\n",
              "      <th>T</th>\n",
              "      <td>1.000000</td>\n",
              "      <td>0.967536</td>\n",
              "      <td>0.953719</td>\n",
              "      <td>-0.881409</td>\n",
              "      <td>-0.509299</td>\n",
              "      <td>0.640792</td>\n",
              "      <td>0.301994</td>\n",
              "      <td>0.287738</td>\n",
              "      <td>-0.631462</td>\n",
              "    </tr>\n",
              "    <tr>\n",
              "      <th>TM</th>\n",
              "      <td>0.967536</td>\n",
              "      <td>1.000000</td>\n",
              "      <td>0.892031</td>\n",
              "      <td>-0.822958</td>\n",
              "      <td>-0.586681</td>\n",
              "      <td>0.606945</td>\n",
              "      <td>0.292949</td>\n",
              "      <td>0.297011</td>\n",
              "      <td>-0.568409</td>\n",
              "    </tr>\n",
              "    <tr>\n",
              "      <th>Tm</th>\n",
              "      <td>0.953719</td>\n",
              "      <td>0.892031</td>\n",
              "      <td>1.000000</td>\n",
              "      <td>-0.917518</td>\n",
              "      <td>-0.287357</td>\n",
              "      <td>0.577240</td>\n",
              "      <td>0.296225</td>\n",
              "      <td>0.266782</td>\n",
              "      <td>-0.673824</td>\n",
              "    </tr>\n",
              "    <tr>\n",
              "      <th>SLP</th>\n",
              "      <td>-0.881409</td>\n",
              "      <td>-0.822958</td>\n",
              "      <td>-0.917518</td>\n",
              "      <td>1.000000</td>\n",
              "      <td>0.240256</td>\n",
              "      <td>-0.517915</td>\n",
              "      <td>-0.329838</td>\n",
              "      <td>-0.310704</td>\n",
              "      <td>0.623187</td>\n",
              "    </tr>\n",
              "    <tr>\n",
              "      <th>H</th>\n",
              "      <td>-0.509299</td>\n",
              "      <td>-0.586681</td>\n",
              "      <td>-0.287357</td>\n",
              "      <td>0.240256</td>\n",
              "      <td>1.000000</td>\n",
              "      <td>-0.465374</td>\n",
              "      <td>-0.380575</td>\n",
              "      <td>-0.362177</td>\n",
              "      <td>0.138005</td>\n",
              "    </tr>\n",
              "    <tr>\n",
              "      <th>VV</th>\n",
              "      <td>0.640792</td>\n",
              "      <td>0.606945</td>\n",
              "      <td>0.577240</td>\n",
              "      <td>-0.517915</td>\n",
              "      <td>-0.465374</td>\n",
              "      <td>1.000000</td>\n",
              "      <td>0.376873</td>\n",
              "      <td>0.342442</td>\n",
              "      <td>-0.573941</td>\n",
              "    </tr>\n",
              "    <tr>\n",
              "      <th>V</th>\n",
              "      <td>0.301994</td>\n",
              "      <td>0.292949</td>\n",
              "      <td>0.296225</td>\n",
              "      <td>-0.329838</td>\n",
              "      <td>-0.380575</td>\n",
              "      <td>0.376873</td>\n",
              "      <td>1.000000</td>\n",
              "      <td>0.775655</td>\n",
              "      <td>-0.268530</td>\n",
              "    </tr>\n",
              "    <tr>\n",
              "      <th>VM</th>\n",
              "      <td>0.287738</td>\n",
              "      <td>0.297011</td>\n",
              "      <td>0.266782</td>\n",
              "      <td>-0.310704</td>\n",
              "      <td>-0.362177</td>\n",
              "      <td>0.342442</td>\n",
              "      <td>0.775655</td>\n",
              "      <td>1.000000</td>\n",
              "      <td>-0.215854</td>\n",
              "    </tr>\n",
              "    <tr>\n",
              "      <th>PM 2.5</th>\n",
              "      <td>-0.631462</td>\n",
              "      <td>-0.568409</td>\n",
              "      <td>-0.673824</td>\n",
              "      <td>0.623187</td>\n",
              "      <td>0.138005</td>\n",
              "      <td>-0.573941</td>\n",
              "      <td>-0.268530</td>\n",
              "      <td>-0.215854</td>\n",
              "      <td>1.000000</td>\n",
              "    </tr>\n",
              "  </tbody>\n",
              "</table>\n",
              "</div>"
            ],
            "text/plain": [
              "               T        TM        Tm  ...         V        VM    PM 2.5\n",
              "T       1.000000  0.967536  0.953719  ...  0.301994  0.287738 -0.631462\n",
              "TM      0.967536  1.000000  0.892031  ...  0.292949  0.297011 -0.568409\n",
              "Tm      0.953719  0.892031  1.000000  ...  0.296225  0.266782 -0.673824\n",
              "SLP    -0.881409 -0.822958 -0.917518  ... -0.329838 -0.310704  0.623187\n",
              "H      -0.509299 -0.586681 -0.287357  ... -0.380575 -0.362177  0.138005\n",
              "VV      0.640792  0.606945  0.577240  ...  0.376873  0.342442 -0.573941\n",
              "V       0.301994  0.292949  0.296225  ...  1.000000  0.775655 -0.268530\n",
              "VM      0.287738  0.297011  0.266782  ...  0.775655  1.000000 -0.215854\n",
              "PM 2.5 -0.631462 -0.568409 -0.673824  ... -0.268530 -0.215854  1.000000\n",
              "\n",
              "[9 rows x 9 columns]"
            ]
          },
          "metadata": {
            "tags": []
          },
          "execution_count": 10
        }
      ]
    },
    {
      "cell_type": "markdown",
      "metadata": {
        "id": "H_4SzENjtsin"
      },
      "source": [
        "**Train Test split**"
      ]
    },
    {
      "cell_type": "code",
      "metadata": {
        "id": "B3F3VBkStprA"
      },
      "source": [
        "from sklearn.model_selection import train_test_split\r\n",
        "X_train, X_test, y_train, y_test = train_test_split(X, y, test_size=0.3, random_state=0)"
      ],
      "execution_count": 11,
      "outputs": []
    },
    {
      "cell_type": "markdown",
      "metadata": {
        "id": "1QK_sLOFHr1k"
      },
      "source": [
        "**Modeling**"
      ]
    },
    {
      "cell_type": "code",
      "metadata": {
        "id": "uQsfaGJ0HvAa"
      },
      "source": [
        "# Importing the Keras libraries and packages\r\n",
        "import keras\r\n",
        "from keras.models import Sequential\r\n",
        "from keras.layers import Dense\r\n",
        "from keras.layers import LeakyReLU,PReLU,ELU\r\n",
        "from keras.layers import Dropout\r\n",
        "from keras import regularizers"
      ],
      "execution_count": 12,
      "outputs": []
    },
    {
      "cell_type": "code",
      "metadata": {
        "id": "JMZ_1OXvH01J",
        "colab": {
          "base_uri": "https://localhost:8080/"
        },
        "outputId": "744b03c0-a135-4159-fa66-e6460cfaf1c1"
      },
      "source": [
        "NN_model = Sequential()\r\n",
        "\r\n",
        "# # The Input Layer :\r\n",
        "# NN_model.add(Dense(128, kernel_regularizer= regularizers.l2(0.01),input_dim = X_train.shape[1], activation='relu')),Dropout(0.3),\r\n",
        "\r\n",
        "# # The Hidden Layers :\r\n",
        "# NN_model.add(Dense(256, kernel_regularizer=regularizers.l2(0.01),activation='relu')),Dropout(0.3),\r\n",
        "# NN_model.add(Dense(256, kernel_regularizer=regularizers.l2(0.01),activation='relu')),Dropout(0.3),\r\n",
        "# NN_model.add(Dense(256, kernel_regularizer=regularizers.l2(0.01),activation='relu')),Dropout(0.3),\r\n",
        "\r\n",
        "# # The Output Layer :\r\n",
        "# NN_model.add(Dense(1, kernel_regularizer=regularizers.l2(0.01),activation='linear'))\r\n",
        "\r\n",
        "# The Input Layer :\r\n",
        "NN_model.add(Dense(128, kernel_initializer='normal',input_dim = X_train.shape[1], activation='relu'))\r\n",
        "\r\n",
        "# The Hidden Layers :\r\n",
        "NN_model.add(Dense(256, kernel_initializer='normal',activation='relu'))\r\n",
        "NN_model.add(Dense(256, kernel_initializer='normal',activation='relu'))\r\n",
        "NN_model.add(Dense(256, kernel_initializer='normal',activation='relu'))\r\n",
        "\r\n",
        "# The Output Layer :\r\n",
        "NN_model.add(Dense(1, kernel_initializer='normal',activation='linear'))\r\n",
        "\r\n",
        "# Compile the network :\r\n",
        "NN_model.compile(loss='mean_absolute_error', optimizer='adam', metrics=['mean_absolute_error'])\r\n",
        "NN_model.summary()\r\n",
        "\r\n",
        "# Fitting the ANN to the Training set\r\n",
        "hist=NN_model.fit(X_train, y_train,validation_split=0.33, batch_size = 10, epochs = 100)"
      ],
      "execution_count": 13,
      "outputs": [
        {
          "output_type": "stream",
          "text": [
            "Model: \"sequential\"\n",
            "_________________________________________________________________\n",
            "Layer (type)                 Output Shape              Param #   \n",
            "=================================================================\n",
            "dense (Dense)                (None, 128)               1152      \n",
            "_________________________________________________________________\n",
            "dense_1 (Dense)              (None, 256)               33024     \n",
            "_________________________________________________________________\n",
            "dense_2 (Dense)              (None, 256)               65792     \n",
            "_________________________________________________________________\n",
            "dense_3 (Dense)              (None, 256)               65792     \n",
            "_________________________________________________________________\n",
            "dense_4 (Dense)              (None, 1)                 257       \n",
            "=================================================================\n",
            "Total params: 166,017\n",
            "Trainable params: 166,017\n",
            "Non-trainable params: 0\n",
            "_________________________________________________________________\n",
            "Epoch 1/100\n",
            "52/52 [==============================] - 1s 14ms/step - loss: 73.7965 - mean_absolute_error: 73.7965 - val_loss: 65.0692 - val_mean_absolute_error: 65.0692\n",
            "Epoch 2/100\n",
            "52/52 [==============================] - 0s 4ms/step - loss: 68.6890 - mean_absolute_error: 68.6890 - val_loss: 64.8086 - val_mean_absolute_error: 64.8086\n",
            "Epoch 3/100\n",
            "52/52 [==============================] - 0s 4ms/step - loss: 62.8702 - mean_absolute_error: 62.8702 - val_loss: 63.0182 - val_mean_absolute_error: 63.0182\n",
            "Epoch 4/100\n",
            "52/52 [==============================] - 0s 5ms/step - loss: 59.0805 - mean_absolute_error: 59.0805 - val_loss: 55.0947 - val_mean_absolute_error: 55.0947\n",
            "Epoch 5/100\n",
            "52/52 [==============================] - 0s 4ms/step - loss: 55.0162 - mean_absolute_error: 55.0162 - val_loss: 53.0557 - val_mean_absolute_error: 53.0557\n",
            "Epoch 6/100\n",
            "52/52 [==============================] - 0s 4ms/step - loss: 49.4335 - mean_absolute_error: 49.4335 - val_loss: 47.5564 - val_mean_absolute_error: 47.5564\n",
            "Epoch 7/100\n",
            "52/52 [==============================] - 0s 4ms/step - loss: 46.1191 - mean_absolute_error: 46.1191 - val_loss: 46.0845 - val_mean_absolute_error: 46.0845\n",
            "Epoch 8/100\n",
            "52/52 [==============================] - 0s 4ms/step - loss: 44.5628 - mean_absolute_error: 44.5628 - val_loss: 46.3671 - val_mean_absolute_error: 46.3671\n",
            "Epoch 9/100\n",
            "52/52 [==============================] - 0s 4ms/step - loss: 44.7440 - mean_absolute_error: 44.7440 - val_loss: 49.0993 - val_mean_absolute_error: 49.0993\n",
            "Epoch 10/100\n",
            "52/52 [==============================] - 0s 4ms/step - loss: 47.2592 - mean_absolute_error: 47.2592 - val_loss: 46.9018 - val_mean_absolute_error: 46.9018\n",
            "Epoch 11/100\n",
            "52/52 [==============================] - 0s 4ms/step - loss: 47.8239 - mean_absolute_error: 47.8239 - val_loss: 48.2901 - val_mean_absolute_error: 48.2901\n",
            "Epoch 12/100\n",
            "52/52 [==============================] - 0s 4ms/step - loss: 46.6725 - mean_absolute_error: 46.6725 - val_loss: 45.6500 - val_mean_absolute_error: 45.6500\n",
            "Epoch 13/100\n",
            "52/52 [==============================] - 0s 4ms/step - loss: 46.5254 - mean_absolute_error: 46.5254 - val_loss: 46.8587 - val_mean_absolute_error: 46.8587\n",
            "Epoch 14/100\n",
            "52/52 [==============================] - 0s 4ms/step - loss: 39.4008 - mean_absolute_error: 39.4008 - val_loss: 46.3120 - val_mean_absolute_error: 46.3120\n",
            "Epoch 15/100\n",
            "52/52 [==============================] - 0s 4ms/step - loss: 43.7570 - mean_absolute_error: 43.7570 - val_loss: 46.9626 - val_mean_absolute_error: 46.9626\n",
            "Epoch 16/100\n",
            "52/52 [==============================] - 0s 4ms/step - loss: 44.3870 - mean_absolute_error: 44.3870 - val_loss: 44.7595 - val_mean_absolute_error: 44.7595\n",
            "Epoch 17/100\n",
            "52/52 [==============================] - 0s 4ms/step - loss: 43.5579 - mean_absolute_error: 43.5579 - val_loss: 49.9149 - val_mean_absolute_error: 49.9149\n",
            "Epoch 18/100\n",
            "52/52 [==============================] - 0s 4ms/step - loss: 41.3228 - mean_absolute_error: 41.3228 - val_loss: 45.9481 - val_mean_absolute_error: 45.9481\n",
            "Epoch 19/100\n",
            "52/52 [==============================] - 0s 4ms/step - loss: 44.7566 - mean_absolute_error: 44.7566 - val_loss: 47.7100 - val_mean_absolute_error: 47.7100\n",
            "Epoch 20/100\n",
            "52/52 [==============================] - 0s 3ms/step - loss: 42.7981 - mean_absolute_error: 42.7981 - val_loss: 45.1140 - val_mean_absolute_error: 45.1140\n",
            "Epoch 21/100\n",
            "52/52 [==============================] - 0s 4ms/step - loss: 40.7993 - mean_absolute_error: 40.7993 - val_loss: 46.3661 - val_mean_absolute_error: 46.3661\n",
            "Epoch 22/100\n",
            "52/52 [==============================] - 0s 4ms/step - loss: 46.2940 - mean_absolute_error: 46.2940 - val_loss: 44.9174 - val_mean_absolute_error: 44.9174\n",
            "Epoch 23/100\n",
            "52/52 [==============================] - 0s 4ms/step - loss: 44.8100 - mean_absolute_error: 44.8100 - val_loss: 44.6793 - val_mean_absolute_error: 44.6793\n",
            "Epoch 24/100\n",
            "52/52 [==============================] - 0s 4ms/step - loss: 43.7773 - mean_absolute_error: 43.7773 - val_loss: 48.0430 - val_mean_absolute_error: 48.0430\n",
            "Epoch 25/100\n",
            "52/52 [==============================] - 0s 4ms/step - loss: 42.4381 - mean_absolute_error: 42.4381 - val_loss: 44.6907 - val_mean_absolute_error: 44.6907\n",
            "Epoch 26/100\n",
            "52/52 [==============================] - 0s 4ms/step - loss: 38.5472 - mean_absolute_error: 38.5472 - val_loss: 44.2539 - val_mean_absolute_error: 44.2539\n",
            "Epoch 27/100\n",
            "52/52 [==============================] - 0s 4ms/step - loss: 40.5548 - mean_absolute_error: 40.5548 - val_loss: 46.3442 - val_mean_absolute_error: 46.3442\n",
            "Epoch 28/100\n",
            "52/52 [==============================] - 0s 4ms/step - loss: 40.5767 - mean_absolute_error: 40.5767 - val_loss: 44.8362 - val_mean_absolute_error: 44.8362\n",
            "Epoch 29/100\n",
            "52/52 [==============================] - 0s 4ms/step - loss: 41.2818 - mean_absolute_error: 41.2818 - val_loss: 44.7726 - val_mean_absolute_error: 44.7726\n",
            "Epoch 30/100\n",
            "52/52 [==============================] - 0s 4ms/step - loss: 40.3068 - mean_absolute_error: 40.3068 - val_loss: 43.9348 - val_mean_absolute_error: 43.9348\n",
            "Epoch 31/100\n",
            "52/52 [==============================] - 0s 5ms/step - loss: 42.0057 - mean_absolute_error: 42.0057 - val_loss: 49.0693 - val_mean_absolute_error: 49.0693\n",
            "Epoch 32/100\n",
            "52/52 [==============================] - 0s 4ms/step - loss: 45.6136 - mean_absolute_error: 45.6136 - val_loss: 54.1866 - val_mean_absolute_error: 54.1866\n",
            "Epoch 33/100\n",
            "52/52 [==============================] - 0s 4ms/step - loss: 47.0512 - mean_absolute_error: 47.0512 - val_loss: 48.7531 - val_mean_absolute_error: 48.7531\n",
            "Epoch 34/100\n",
            "52/52 [==============================] - 0s 4ms/step - loss: 43.0651 - mean_absolute_error: 43.0651 - val_loss: 47.4907 - val_mean_absolute_error: 47.4907\n",
            "Epoch 35/100\n",
            "52/52 [==============================] - 0s 4ms/step - loss: 41.1249 - mean_absolute_error: 41.1249 - val_loss: 44.1430 - val_mean_absolute_error: 44.1430\n",
            "Epoch 36/100\n",
            "52/52 [==============================] - 0s 4ms/step - loss: 39.2202 - mean_absolute_error: 39.2202 - val_loss: 44.1932 - val_mean_absolute_error: 44.1932\n",
            "Epoch 37/100\n",
            "52/52 [==============================] - 0s 4ms/step - loss: 40.6971 - mean_absolute_error: 40.6971 - val_loss: 46.9035 - val_mean_absolute_error: 46.9035\n",
            "Epoch 38/100\n",
            "52/52 [==============================] - 0s 4ms/step - loss: 42.2716 - mean_absolute_error: 42.2716 - val_loss: 47.1328 - val_mean_absolute_error: 47.1328\n",
            "Epoch 39/100\n",
            "52/52 [==============================] - 0s 4ms/step - loss: 42.8459 - mean_absolute_error: 42.8459 - val_loss: 46.8805 - val_mean_absolute_error: 46.8805\n",
            "Epoch 40/100\n",
            "52/52 [==============================] - 0s 5ms/step - loss: 45.0707 - mean_absolute_error: 45.0707 - val_loss: 45.1163 - val_mean_absolute_error: 45.1163\n",
            "Epoch 41/100\n",
            "52/52 [==============================] - 0s 4ms/step - loss: 40.3867 - mean_absolute_error: 40.3867 - val_loss: 44.9924 - val_mean_absolute_error: 44.9924\n",
            "Epoch 42/100\n",
            "52/52 [==============================] - 0s 4ms/step - loss: 40.1535 - mean_absolute_error: 40.1535 - val_loss: 47.2891 - val_mean_absolute_error: 47.2891\n",
            "Epoch 43/100\n",
            "52/52 [==============================] - 0s 4ms/step - loss: 38.9658 - mean_absolute_error: 38.9658 - val_loss: 47.3464 - val_mean_absolute_error: 47.3464\n",
            "Epoch 44/100\n",
            "52/52 [==============================] - 0s 4ms/step - loss: 40.2236 - mean_absolute_error: 40.2236 - val_loss: 43.8264 - val_mean_absolute_error: 43.8264\n",
            "Epoch 45/100\n",
            "52/52 [==============================] - 0s 4ms/step - loss: 42.5512 - mean_absolute_error: 42.5512 - val_loss: 44.2407 - val_mean_absolute_error: 44.2407\n",
            "Epoch 46/100\n",
            "52/52 [==============================] - 0s 4ms/step - loss: 41.8632 - mean_absolute_error: 41.8632 - val_loss: 45.1302 - val_mean_absolute_error: 45.1302\n",
            "Epoch 47/100\n",
            "52/52 [==============================] - 0s 4ms/step - loss: 39.5070 - mean_absolute_error: 39.5070 - val_loss: 43.6913 - val_mean_absolute_error: 43.6913\n",
            "Epoch 48/100\n",
            "52/52 [==============================] - 0s 4ms/step - loss: 39.3600 - mean_absolute_error: 39.3600 - val_loss: 45.3607 - val_mean_absolute_error: 45.3607\n",
            "Epoch 49/100\n",
            "52/52 [==============================] - 0s 4ms/step - loss: 45.1525 - mean_absolute_error: 45.1525 - val_loss: 44.6132 - val_mean_absolute_error: 44.6132\n",
            "Epoch 50/100\n",
            "52/52 [==============================] - 0s 6ms/step - loss: 37.6284 - mean_absolute_error: 37.6284 - val_loss: 45.8418 - val_mean_absolute_error: 45.8418\n",
            "Epoch 51/100\n",
            "52/52 [==============================] - 0s 4ms/step - loss: 38.4769 - mean_absolute_error: 38.4769 - val_loss: 48.0091 - val_mean_absolute_error: 48.0091\n",
            "Epoch 52/100\n",
            "52/52 [==============================] - 0s 4ms/step - loss: 37.4151 - mean_absolute_error: 37.4151 - val_loss: 48.6278 - val_mean_absolute_error: 48.6278\n",
            "Epoch 53/100\n",
            "52/52 [==============================] - 0s 4ms/step - loss: 44.1698 - mean_absolute_error: 44.1698 - val_loss: 48.0903 - val_mean_absolute_error: 48.0903\n",
            "Epoch 54/100\n",
            "52/52 [==============================] - 0s 4ms/step - loss: 40.3950 - mean_absolute_error: 40.3950 - val_loss: 45.4359 - val_mean_absolute_error: 45.4359\n",
            "Epoch 55/100\n",
            "52/52 [==============================] - 0s 4ms/step - loss: 40.2597 - mean_absolute_error: 40.2597 - val_loss: 44.4209 - val_mean_absolute_error: 44.4209\n",
            "Epoch 56/100\n",
            "52/52 [==============================] - 0s 4ms/step - loss: 37.1043 - mean_absolute_error: 37.1043 - val_loss: 44.0126 - val_mean_absolute_error: 44.0126\n",
            "Epoch 57/100\n",
            "52/52 [==============================] - 0s 4ms/step - loss: 36.6494 - mean_absolute_error: 36.6494 - val_loss: 45.7273 - val_mean_absolute_error: 45.7273\n",
            "Epoch 58/100\n",
            "52/52 [==============================] - 0s 4ms/step - loss: 39.9815 - mean_absolute_error: 39.9815 - val_loss: 47.4290 - val_mean_absolute_error: 47.4290\n",
            "Epoch 59/100\n",
            "52/52 [==============================] - 0s 5ms/step - loss: 40.1745 - mean_absolute_error: 40.1745 - val_loss: 45.4776 - val_mean_absolute_error: 45.4776\n",
            "Epoch 60/100\n",
            "52/52 [==============================] - 0s 4ms/step - loss: 38.3826 - mean_absolute_error: 38.3826 - val_loss: 44.6460 - val_mean_absolute_error: 44.6460\n",
            "Epoch 61/100\n",
            "52/52 [==============================] - 0s 4ms/step - loss: 42.5807 - mean_absolute_error: 42.5807 - val_loss: 49.9850 - val_mean_absolute_error: 49.9850\n",
            "Epoch 62/100\n",
            "52/52 [==============================] - 0s 5ms/step - loss: 38.0163 - mean_absolute_error: 38.0163 - val_loss: 44.7211 - val_mean_absolute_error: 44.7211\n",
            "Epoch 63/100\n",
            "52/52 [==============================] - 0s 4ms/step - loss: 40.5600 - mean_absolute_error: 40.5600 - val_loss: 45.4716 - val_mean_absolute_error: 45.4716\n",
            "Epoch 64/100\n",
            "52/52 [==============================] - 0s 4ms/step - loss: 39.8015 - mean_absolute_error: 39.8015 - val_loss: 47.3711 - val_mean_absolute_error: 47.3711\n",
            "Epoch 65/100\n",
            "52/52 [==============================] - 0s 4ms/step - loss: 44.2859 - mean_absolute_error: 44.2859 - val_loss: 44.4117 - val_mean_absolute_error: 44.4117\n",
            "Epoch 66/100\n",
            "52/52 [==============================] - 0s 4ms/step - loss: 42.9341 - mean_absolute_error: 42.9341 - val_loss: 45.2030 - val_mean_absolute_error: 45.2030\n",
            "Epoch 67/100\n",
            "52/52 [==============================] - 0s 4ms/step - loss: 44.0038 - mean_absolute_error: 44.0038 - val_loss: 43.9696 - val_mean_absolute_error: 43.9696\n",
            "Epoch 68/100\n",
            "52/52 [==============================] - 0s 4ms/step - loss: 38.1971 - mean_absolute_error: 38.1971 - val_loss: 43.8905 - val_mean_absolute_error: 43.8905\n",
            "Epoch 69/100\n",
            "52/52 [==============================] - 0s 4ms/step - loss: 40.7279 - mean_absolute_error: 40.7279 - val_loss: 48.9640 - val_mean_absolute_error: 48.9640\n",
            "Epoch 70/100\n",
            "52/52 [==============================] - 0s 5ms/step - loss: 40.6434 - mean_absolute_error: 40.6434 - val_loss: 43.8948 - val_mean_absolute_error: 43.8948\n",
            "Epoch 71/100\n",
            "52/52 [==============================] - 0s 4ms/step - loss: 37.0779 - mean_absolute_error: 37.0779 - val_loss: 52.3372 - val_mean_absolute_error: 52.3372\n",
            "Epoch 72/100\n",
            "52/52 [==============================] - 0s 4ms/step - loss: 43.7784 - mean_absolute_error: 43.7784 - val_loss: 44.9714 - val_mean_absolute_error: 44.9714\n",
            "Epoch 73/100\n",
            "52/52 [==============================] - 0s 4ms/step - loss: 41.8112 - mean_absolute_error: 41.8112 - val_loss: 48.2222 - val_mean_absolute_error: 48.2222\n",
            "Epoch 74/100\n",
            "52/52 [==============================] - 0s 4ms/step - loss: 40.5816 - mean_absolute_error: 40.5816 - val_loss: 43.4929 - val_mean_absolute_error: 43.4929\n",
            "Epoch 75/100\n",
            "52/52 [==============================] - 0s 4ms/step - loss: 38.1533 - mean_absolute_error: 38.1533 - val_loss: 44.5691 - val_mean_absolute_error: 44.5691\n",
            "Epoch 76/100\n",
            "52/52 [==============================] - 0s 4ms/step - loss: 38.7476 - mean_absolute_error: 38.7476 - val_loss: 45.5280 - val_mean_absolute_error: 45.5280\n",
            "Epoch 77/100\n",
            "52/52 [==============================] - 0s 4ms/step - loss: 41.1442 - mean_absolute_error: 41.1442 - val_loss: 44.1211 - val_mean_absolute_error: 44.1211\n",
            "Epoch 78/100\n",
            "52/52 [==============================] - 0s 4ms/step - loss: 42.6581 - mean_absolute_error: 42.6581 - val_loss: 45.1076 - val_mean_absolute_error: 45.1076\n",
            "Epoch 79/100\n",
            "52/52 [==============================] - 0s 4ms/step - loss: 44.4139 - mean_absolute_error: 44.4139 - val_loss: 43.4816 - val_mean_absolute_error: 43.4816\n",
            "Epoch 80/100\n",
            "52/52 [==============================] - 0s 4ms/step - loss: 39.7517 - mean_absolute_error: 39.7517 - val_loss: 45.2341 - val_mean_absolute_error: 45.2341\n",
            "Epoch 81/100\n",
            "52/52 [==============================] - 0s 5ms/step - loss: 37.4176 - mean_absolute_error: 37.4176 - val_loss: 43.6537 - val_mean_absolute_error: 43.6537\n",
            "Epoch 82/100\n",
            "52/52 [==============================] - 0s 5ms/step - loss: 38.0517 - mean_absolute_error: 38.0517 - val_loss: 45.2052 - val_mean_absolute_error: 45.2052\n",
            "Epoch 83/100\n",
            "52/52 [==============================] - 0s 4ms/step - loss: 41.3768 - mean_absolute_error: 41.3768 - val_loss: 48.6672 - val_mean_absolute_error: 48.6672\n",
            "Epoch 84/100\n",
            "52/52 [==============================] - 0s 4ms/step - loss: 41.3009 - mean_absolute_error: 41.3009 - val_loss: 43.4634 - val_mean_absolute_error: 43.4634\n",
            "Epoch 85/100\n",
            "52/52 [==============================] - 0s 4ms/step - loss: 43.8191 - mean_absolute_error: 43.8191 - val_loss: 45.6594 - val_mean_absolute_error: 45.6594\n",
            "Epoch 86/100\n",
            "52/52 [==============================] - 0s 4ms/step - loss: 46.2147 - mean_absolute_error: 46.2147 - val_loss: 43.4873 - val_mean_absolute_error: 43.4873\n",
            "Epoch 87/100\n",
            "52/52 [==============================] - 0s 4ms/step - loss: 42.8101 - mean_absolute_error: 42.8101 - val_loss: 43.4962 - val_mean_absolute_error: 43.4962\n",
            "Epoch 88/100\n",
            "52/52 [==============================] - 0s 4ms/step - loss: 39.4694 - mean_absolute_error: 39.4694 - val_loss: 44.8924 - val_mean_absolute_error: 44.8924\n",
            "Epoch 89/100\n",
            "52/52 [==============================] - 0s 4ms/step - loss: 37.0729 - mean_absolute_error: 37.0729 - val_loss: 43.6276 - val_mean_absolute_error: 43.6276\n",
            "Epoch 90/100\n",
            "52/52 [==============================] - 0s 4ms/step - loss: 36.6788 - mean_absolute_error: 36.6788 - val_loss: 45.5935 - val_mean_absolute_error: 45.5935\n",
            "Epoch 91/100\n",
            "52/52 [==============================] - 0s 4ms/step - loss: 40.9132 - mean_absolute_error: 40.9132 - val_loss: 43.6334 - val_mean_absolute_error: 43.6334\n",
            "Epoch 92/100\n",
            "52/52 [==============================] - 0s 4ms/step - loss: 36.5428 - mean_absolute_error: 36.5428 - val_loss: 45.6261 - val_mean_absolute_error: 45.6261\n",
            "Epoch 93/100\n",
            "52/52 [==============================] - 0s 5ms/step - loss: 44.3171 - mean_absolute_error: 44.3171 - val_loss: 44.6668 - val_mean_absolute_error: 44.6668\n",
            "Epoch 94/100\n",
            "52/52 [==============================] - 0s 6ms/step - loss: 41.0310 - mean_absolute_error: 41.0310 - val_loss: 44.3940 - val_mean_absolute_error: 44.3940\n",
            "Epoch 95/100\n",
            "52/52 [==============================] - 0s 4ms/step - loss: 37.9788 - mean_absolute_error: 37.9788 - val_loss: 44.6562 - val_mean_absolute_error: 44.6562\n",
            "Epoch 96/100\n",
            "52/52 [==============================] - 0s 5ms/step - loss: 39.3208 - mean_absolute_error: 39.3208 - val_loss: 43.9499 - val_mean_absolute_error: 43.9499\n",
            "Epoch 97/100\n",
            "52/52 [==============================] - 0s 4ms/step - loss: 40.4618 - mean_absolute_error: 40.4618 - val_loss: 43.8059 - val_mean_absolute_error: 43.8059\n",
            "Epoch 98/100\n",
            "52/52 [==============================] - 0s 4ms/step - loss: 37.7753 - mean_absolute_error: 37.7753 - val_loss: 44.1224 - val_mean_absolute_error: 44.1224\n",
            "Epoch 99/100\n",
            "52/52 [==============================] - 0s 5ms/step - loss: 44.7692 - mean_absolute_error: 44.7692 - val_loss: 45.4250 - val_mean_absolute_error: 45.4250\n",
            "Epoch 100/100\n",
            "52/52 [==============================] - 0s 4ms/step - loss: 40.6619 - mean_absolute_error: 40.6619 - val_loss: 44.3925 - val_mean_absolute_error: 44.3925\n"
          ],
          "name": "stdout"
        }
      ]
    },
    {
      "cell_type": "markdown",
      "metadata": {
        "id": "6l7LBFhzH6-Q"
      },
      "source": [
        "**Model Evaluation**"
      ]
    },
    {
      "cell_type": "code",
      "metadata": {
        "id": "Sq3yl4NsH-6b"
      },
      "source": [
        "prediction=NN_model.predict(X_test)\r\n"
      ],
      "execution_count": 14,
      "outputs": []
    },
    {
      "cell_type": "code",
      "metadata": {
        "colab": {
          "base_uri": "https://localhost:8080/"
        },
        "id": "qtaz3aqruaka",
        "outputId": "a253d28b-d8c7-4dcb-e5cb-ccd188a259a7"
      },
      "source": [
        "NN_model.evaluate(X_test,y_test)"
      ],
      "execution_count": 15,
      "outputs": [
        {
          "output_type": "stream",
          "text": [
            "11/11 [==============================] - 0s 2ms/step - loss: 43.8165 - mean_absolute_error: 43.8165\n"
          ],
          "name": "stdout"
        },
        {
          "output_type": "execute_result",
          "data": {
            "text/plain": [
              "[43.81654357910156, 43.81654357910156]"
            ]
          },
          "metadata": {
            "tags": []
          },
          "execution_count": 15
        }
      ]
    },
    {
      "cell_type": "code",
      "metadata": {
        "colab": {
          "base_uri": "https://localhost:8080/",
          "height": 337
        },
        "id": "ONlbVOyb07jB",
        "outputId": "20e8e2d2-78b0-4577-a180-053e65df5048"
      },
      "source": [
        "sns.distplot(y_test.values.reshape(-1,1)-prediction)\r\n"
      ],
      "execution_count": 16,
      "outputs": [
        {
          "output_type": "stream",
          "text": [
            "/usr/local/lib/python3.6/dist-packages/seaborn/distributions.py:2557: FutureWarning: `distplot` is a deprecated function and will be removed in a future version. Please adapt your code to use either `displot` (a figure-level function with similar flexibility) or `histplot` (an axes-level function for histograms).\n",
            "  warnings.warn(msg, FutureWarning)\n"
          ],
          "name": "stderr"
        },
        {
          "output_type": "execute_result",
          "data": {
            "text/plain": [
              "<matplotlib.axes._subplots.AxesSubplot at 0x7fc791ad5cc0>"
            ]
          },
          "metadata": {
            "tags": []
          },
          "execution_count": 16
        },
        {
          "output_type": "display_data",
          "data": {
            "image/png": "[encoded data removed]",
            "text/plain": [
              "<Figure size 432x288 with 1 Axes>"
            ]
          },
          "metadata": {
            "tags": [],
            "needs_background": "light"
          }
        }
      ]
    },
    {
      "cell_type": "code",
      "metadata": {
        "colab": {
          "base_uri": "https://localhost:8080/"
        },
        "id": "-PiOlnAb0xWz",
        "outputId": "0362c32b-33f7-415e-a8aa-637949f4dff1"
      },
      "source": [
        "from sklearn import metrics\r\n",
        "print('MAE:', metrics.mean_absolute_error(y_test, prediction))\r\n",
        "print('MSE:', metrics.mean_squared_error(y_test, prediction))\r\n",
        "print('RMSE:', np.sqrt(metrics.mean_squared_error(y_test, prediction)))"
      ],
      "execution_count": 17,
      "outputs": [
        {
          "output_type": "stream",
          "text": [
            "MAE: 43.81654664339647\n",
            "MSE: 3796.0502733247263\n",
            "RMSE: 61.61209518694139\n"
          ],
          "name": "stdout"
        }
      ]
    }
  ]
}