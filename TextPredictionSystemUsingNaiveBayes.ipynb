{
  "nbformat": 4,
  "nbformat_minor": 0,
  "metadata": {
    "colab": {
      "name": "TextPredictionSystemUsingNaiveBayes.ipynb",
      "provenance": [],
      "collapsed_sections": []
    },
    "kernelspec": {
      "name": "python3",
      "display_name": "Python 3"
    }
  },
  "cells": [
    {
      "cell_type": "code",
      "metadata": {
        "id": "RfCLk3sP-qni"
      },
      "source": [
        "from nltk import trigrams\r\n",
        "from nltk.corpus import brown\r\n",
        "from collections import defaultdict"
      ],
      "execution_count": 83,
      "outputs": []
    },
    {
      "cell_type": "code",
      "metadata": {
        "colab": {
          "base_uri": "https://localhost:8080/"
        },
        "id": "wMUiNiyq-vG3",
        "outputId": "4bc555d1-72a7-4d54-cbce-d31683f85009"
      },
      "source": [
        "nltk.download('brown')"
      ],
      "execution_count": 84,
      "outputs": [
        {
          "output_type": "stream",
          "text": [
            "[nltk_data] Downloading package brown to /root/nltk_data...\n",
            "[nltk_data]   Package brown is already up-to-date!\n"
          ],
          "name": "stdout"
        },
        {
          "output_type": "execute_result",
          "data": {
            "text/plain": [
              "True"
            ]
          },
          "metadata": {
            "tags": []
          },
          "execution_count": 84
        }
      ]
    },
    {
      "cell_type": "markdown",
      "metadata": {
        "id": "iD6YCZZK9p0o"
      },
      "source": [
        "**Pre-processing**"
      ]
    },
    {
      "cell_type": "code",
      "metadata": {
        "id": "l_eAsJ-UGby6"
      },
      "source": [
        "totalWord = 0\r\n",
        "\r\n",
        "uniModel = defaultdict(lambda: 0)\r\n",
        "biModel = defaultdict(lambda: defaultdict(lambda: 0))\r\n",
        "triModel = defaultdict(lambda: defaultdict(lambda: 0))\r\n",
        "\r\n",
        "model1 = defaultdict(lambda: set())\r\n",
        "model2 = defaultdict(lambda: set())"
      ],
      "execution_count": 85,
      "outputs": []
    },
    {
      "cell_type": "code",
      "metadata": {
        "id": "9YhD9OTnYmuy"
      },
      "source": [
        "def convertToLower(ch):\r\n",
        "  if type(ch)==str:\r\n",
        "    return ch.lower()\r\n",
        "  return ch"
      ],
      "execution_count": 86,
      "outputs": []
    },
    {
      "cell_type": "code",
      "metadata": {
        "id": "-_6PLxbG_1Xg"
      },
      "source": [
        "for sentence in brown.sents():\r\n",
        "  for word in sentence:\r\n",
        "    uniModel[word] += 1\r\n",
        "    totalWord +=1\r\n",
        "\r\n",
        "  for firstWord, secondWord, thirdWord in trigrams(sentence, pad_right=True, pad_left=True):\r\n",
        "    firstWord = convertToLower(firstWord)\r\n",
        "    secondWord = convertToLower(secondWord)\r\n",
        "    thirdWord = convertToLower(thirdWord)\r\n",
        "\r\n",
        "    biModel[thirdWord][secondWord] += 1\r\n",
        "    triModel[thirdWord][firstWord] += 1\r\n",
        "\r\n",
        "    model1[secondWord].add(thirdWord)\r\n",
        "    model2[firstWord].add(thirdWord)"
      ],
      "execution_count": 87,
      "outputs": []
    },
    {
      "cell_type": "markdown",
      "metadata": {
        "id": "rfNeKyUi-M8B"
      },
      "source": [
        "**Calculating Probabilities Using Naive Bayes**"
      ]
    },
    {
      "cell_type": "code",
      "metadata": {
        "id": "jvdo-tCfABqQ"
      },
      "source": [
        "def calculateProbablities(model):\r\n",
        "  for nextWord in model:\r\n",
        "    totalCount = float(sum(model[nextWord].values()))\r\n",
        "    for prevWord in model[nextWord]:\r\n",
        "        model[nextWord][prevWord] /= totalCount\r\n",
        "\r\n",
        "calculateProbablities(biModel)\r\n",
        "calculateProbablities(triModel)"
      ],
      "execution_count": 88,
      "outputs": []
    },
    {
      "cell_type": "code",
      "metadata": {
        "id": "KlvtuBkcm47v"
      },
      "source": [
        "for word in uniModel:\r\n",
        "  uniModel[word] /= totalWord"
      ],
      "execution_count": 89,
      "outputs": []
    },
    {
      "cell_type": "code",
      "metadata": {
        "id": "lwjVwEL1m-VV"
      },
      "source": [
        "def calculateTrigramProbabilityUsingChainRule(firstWord, secondWord, thirdWord):\r\n",
        "  return uniModel[thirdWord]*biModel[thirdWord][secondWord]*triModel[thirdWord][firstWord]"
      ],
      "execution_count": 90,
      "outputs": []
    },
    {
      "cell_type": "markdown",
      "metadata": {
        "id": "YCIohpxB9dJL"
      },
      "source": [
        "**Text Prediction**"
      ]
    },
    {
      "cell_type": "code",
      "metadata": {
        "id": "xyWIbBiL-0us"
      },
      "source": [
        "result=[]\r\n",
        "def predictWord(firstWord,secondWord):\r\n",
        "  for thirdWord in model1[secondWord] & model2[firstWord]:\r\n",
        "    res = calculateTrigramProbabilityUsingChainRule(firstWord,secondWord,thirdWord)\r\n",
        "    result.append((thirdWord,res))"
      ],
      "execution_count": 91,
      "outputs": []
    },
    {
      "cell_type": "code",
      "metadata": {
        "id": "IiyKDaMSnC1F",
        "colab": {
          "base_uri": "https://localhost:8080/"
        },
        "outputId": "420698a4-e9e9-4a15-da90-1fc6e186100c"
      },
      "source": [
        "predictWord('we','should')\r\n",
        "sorted(result, key=lambda o: o[1], reverse=True)"
      ],
      "execution_count": 92,
      "outputs": [
        {
          "output_type": "execute_result",
          "data": {
            "text/plain": [
              "[('be', 1.6589103855265665e-06),\n",
              " ('not', 1.043836358083176e-06),\n",
              " ('rededicate', 8.611840246918683e-07),\n",
              " ('have', 7.337867507570294e-07),\n",
              " ('expect', 5.925070128731348e-07),\n",
              " ('swerve', 4.3059201234593417e-07),\n",
              " ('say', 2.4669334040652477e-07),\n",
              " ('imitate', 1.7223680493837368e-07),\n",
              " ('take', 1.6024827161963173e-07),\n",
              " ('encourage', 1.46515240495781e-07),\n",
              " ('refer', 1.2758281847286936e-07),\n",
              " ('find', 1.27562883657483e-07),\n",
              " ('commend', 1.2302628924169547e-07),\n",
              " ('recognize', 1.1112051931507979e-07),\n",
              " ('know', 1.1030799835234811e-07),\n",
              " ('isolate', 1.0764800308648354e-07),\n",
              " ('make', 1.0490982922348262e-07),\n",
              " ('become', 1.007513343650654e-07),\n",
              " ('continue', 9.4776126396345e-08),\n",
              " ('do', 8.579210386318114e-08),\n",
              " ('also', 8.130734842373433e-08),\n",
              " ('think', 7.845272598252224e-08),\n",
              " ('complain', 7.828945679016985e-08),\n",
              " ('recommend', 6.889472197534947e-08),\n",
              " ('receive', 6.798821247567381e-08),\n",
              " ('recall', 6.624492497629757e-08),\n",
              " ('get', 6.622355187460843e-08),\n",
              " ('insist', 6.379140923643468e-08),\n",
              " ('organize', 6.151314462084774e-08),\n",
              " ('never', 6.120710403586766e-08),\n",
              " ('see', 5.470110345031976e-08),\n",
              " ('examine', 5.2192971193446566e-08),\n",
              " ('like', 5.105409994075671e-08),\n",
              " ('realize', 4.99237115763402e-08),\n",
              " ('seek', 4.99237115763402e-08),\n",
              " ('choose', 4.9604199822251615e-08),\n",
              " ('go', 4.786357944295872e-08),\n",
              " ('fail', 4.655048782118208e-08),\n",
              " ('emphasize', 4.305920123459342e-08),\n",
              " ('stick', 4.1898499557658295e-08),\n",
              " ('decide', 4.090624117286375e-08),\n",
              " ('stand', 3.4205172638875344e-08),\n",
              " ('consider', 3.3958276378202515e-08),\n",
              " ('die', 3.3451884614602504e-08),\n",
              " ('prove', 3.249751036573088e-08),\n",
              " ('certainly', 2.9563850815868336e-08),\n",
              " ('regard', 2.9028674989613537e-08),\n",
              " ('turn', 2.8680224661402826e-08),\n",
              " ('avoid', 2.8672000822083605e-08),\n",
              " ('show', 2.8137161300575846e-08),\n",
              " ('promote', 2.6912000771620886e-08),\n",
              " ('come', 2.6837957171614313e-08),\n",
              " ('now', 2.2933703921086407e-08),\n",
              " ('hear', 2.2220306331491672e-08),\n",
              " ('remember', 2.170596155493052e-08),\n",
              " ('offer', 2.1260480609580503e-08),\n",
              " ('provide', 1.9750233762437824e-08),\n",
              " ('equal', 1.8712146709354176e-08),\n",
              " ('agree', 1.688596126846801e-08),\n",
              " ('the', 1.6811340596940792e-08),\n",
              " ('follow', 1.6474983998781624e-08),\n",
              " ('feel', 1.594785230910867e-08),\n",
              " ('wish', 1.551554689114275e-08),\n",
              " ('keep', 1.526001880300817e-08),\n",
              " ('pay', 1.4758663484274514e-08),\n",
              " ('no', 1.4079512107456751e-08),\n",
              " ('bear', 1.4048246632400437e-08),\n",
              " ('determine', 1.3840323219783716e-08),\n",
              " ('hope', 1.3524291874889058e-08),\n",
              " ('our', 1.254825705322747e-08),\n",
              " ('ask', 1.2194500349640714e-08),\n",
              " ('accept', 1.179476577027829e-08),\n",
              " ('note', 1.1319425459400838e-08),\n",
              " ('send', 1.1008561309063329e-08),\n",
              " ('indicate', 1.0764800308648355e-08),\n",
              " ('bring', 1.0763075456812327e-08),\n",
              " ('only', 1.0206236320470185e-08),\n",
              " ('start', 1.016746192080128e-08),\n",
              " ('begin', 1.000809098989983e-08),\n",
              " ('spread', 9.875676869016928e-09),\n",
              " ('this', 9.805991418410288e-09),\n",
              " ('live', 9.620939341892621e-09),\n",
              " ('break', 9.563768869253705e-09),\n",
              " ('return', 9.462392370071146e-09),\n",
              " ('first', 9.238921838426928e-09),\n",
              " ('attempt', 9.065094996756508e-09),\n",
              " ('still', 8.235497178194227e-09),\n",
              " ('reach', 8.201752616113032e-09),\n",
              " ('leave', 8.114904789481971e-09),\n",
              " ('perhaps', 7.821552750015802e-09),\n",
              " ('it', 7.695751498565892e-09),\n",
              " ('always', 7.373460214081517e-09),\n",
              " ('a', 7.355186208048443e-09),\n",
              " ('close', 7.234725899595652e-09),\n",
              " (',', 6.820499526993573e-09),\n",
              " ('probably', 5.967012516765195e-09),\n",
              " ('look', 5.907079446508e-09),\n",
              " ('tell', 5.875197317039088e-09),\n",
              " ('even', 4.957360007722933e-09),\n",
              " ('complete', 4.653783975964389e-09),\n",
              " ('face', 4.629987999738323e-09),\n",
              " ('you', 4.412076339093104e-09),\n",
              " ('we', 4.348590530284638e-09),\n",
              " ('mean', 4.327557913024464e-09),\n",
              " ('put', 3.8240973819766796e-09),\n",
              " ('in', 3.325886363705012e-09),\n",
              " ('every', 3.1006497128871273e-09),\n",
              " ('then', 2.781076324225473e-09),\n",
              " ('sense', 2.7690804652471653e-09),\n",
              " ('these', 2.5644139861472285e-09),\n",
              " ('ever', 2.4233900099918213e-09),\n",
              " ('one', 2.283031679342441e-09),\n",
              " ('more', 1.4955057891504605e-09),\n",
              " ('with', 1.4775606758211118e-09),\n",
              " ('?', 1.4680315784221066e-09),\n",
              " ('march', 1.4116806633839794e-09),\n",
              " ('.', 1.3961561621073534e-09),\n",
              " ('``', 1.3643291100697247e-09),\n",
              " ('there', 1.0860292190541103e-09),\n",
              " ('--', 1.003710984489357e-09),\n",
              " ('she', 8.207969407425553e-10),\n",
              " ('any', 6.202613556526142e-10),\n",
              " ('and', 5.48662460195867e-10),\n",
              " ('or', 4.009348117458625e-10),\n",
              " ('i', 1.743882652610221e-12)]"
            ]
          },
          "metadata": {
            "tags": []
          },
          "execution_count": 92
        }
      ]
    },
    {
      "cell_type": "code",
      "metadata": {
        "id": "C0vqIgbzZfjI"
      },
      "source": [
        ""
      ],
      "execution_count": null,
      "outputs": []
    }
  ]
}